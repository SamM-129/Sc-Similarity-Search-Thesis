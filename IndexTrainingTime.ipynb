{
 "cells": [
  {
   "cell_type": "markdown",
   "id": "cc85440a-9c39-41ed-ab62-349ff9f48b9c",
   "metadata": {},
   "source": [
    "This notebook evaluates and plots training time in the IVF and HNSW indexes"
   ]
  },
  {
   "cell_type": "code",
   "execution_count": 1,
   "id": "cd82e3a2-2819-4ce6-9a8f-51d29c42f756",
   "metadata": {},
   "outputs": [],
   "source": [
    "import pickle\n",
    "import collections\n",
    "import matplotlib.pyplot as plt\n",
    "import faiss\n",
    "import numpy as np\n",
    "import itertools\n",
    "import statistics\n",
    "import matplotlib.cm as cm\n",
    "import time\n",
    "import os\n",
    "from time import perf_counter_ns"
   ]
  },
  {
   "cell_type": "code",
   "execution_count": 2,
   "id": "b632f76a-9410-4883-9be1-33fe20fdc90a",
   "metadata": {},
   "outputs": [
    {
     "name": "stdout",
     "output_type": "stream",
     "text": [
      "dict_keys(['embed_all', 'embed_raw', 'embed_l2_norm', 'restore_order', 'embed_correct_coverage_fh', 'embed_l2_norm_correct_coverage_fh'])\n",
      "dict_keys(['batch id', 'age', 'total_cg', 'average_cg_rate', 'total_ch', 'average_ch_rate', 'hic_counts', 'cell_name_higashi', 'major', 'minor', 'cluster label', 'cluster label minor'])\n"
     ]
    }
   ],
   "source": [
    "# read in embeddings and cluster label info\n",
    "with open('embedding64.pickle', 'rb') as fp:\n",
    "    embedding64 = pickle.load(fp)\n",
    "with open('label_info.pickle', 'rb') as fp:\n",
    "    label_info = pickle.load(fp)\n",
    "\n",
    "print(embedding64.keys())\n",
    "print(label_info.keys())"
   ]
  },
  {
   "cell_type": "code",
   "execution_count": 3,
   "id": "fa8b3168-c4cc-48be-ac5d-9bbb0133ba69",
   "metadata": {},
   "outputs": [
    {
     "name": "stdout",
     "output_type": "stream",
     "text": [
      "MAJOR CLUSTERS\n",
      "    Pvalb: 134\n",
      "    OPC: 203\n",
      "    MP: 100\n",
      "    ODC: 1245\n",
      "    L5: 180\n",
      "    L4: 131\n",
      "    Ndnf: 144\n",
      "    Sst: 217\n",
      "    Astro: 449\n",
      "    MG: 422\n",
      "    L2/3: 551\n",
      "    Vip: 171\n",
      "    L6: 86\n",
      "    Endo: 205\n",
      "MINOR CLUSTERS\n",
      "    Pvalb-2: 21\n",
      "    Vip-1: 45\n",
      "    Endo-2: 69\n",
      "    OPC-1: 203\n",
      "    MG-1: 422\n",
      "    Vip-2: 126\n",
      "    Ndnf-3: 22\n",
      "    Sst-1: 50\n",
      "    Sst-2: 107\n",
      "    MP-1: 100\n",
      "    L5-3: 58\n",
      "    L5-2: 74\n",
      "    Pvalb-1: 113\n",
      "    L2/3-4: 150\n",
      "    L2/3-3: 127\n",
      "    L5-1: 48\n",
      "    ODC-1: 810\n",
      "    Astro-1: 449\n",
      "    Sst-3: 60\n",
      "    Endo-3: 85\n",
      "    L2/3-1: 137\n",
      "    ODC-2: 435\n",
      "    Ndnf-1: 59\n",
      "    L6-2: 19\n",
      "    L2/3-2: 137\n",
      "    Ndnf-2: 63\n",
      "    Endo-1: 51\n",
      "    L4-1: 131\n",
      "    L6-1: 67\n"
     ]
    }
   ],
   "source": [
    "# create helpful dicts for the cluster labels\n",
    "# also look at n counts for the clusters\n",
    "major_labels = list(set(label_info['cluster label']))\n",
    "minor_labels = list(set(label_info['cluster label minor']))\n",
    "\n",
    "major = dict(zip(major_labels,[[] for item in major_labels]))\n",
    "minor = dict(zip(minor_labels,[[] for item in minor_labels]))\n",
    "\n",
    "true_major = label_info['cluster label']\n",
    "true_minor = label_info['cluster label minor']\n",
    "\n",
    "for j in range(len(label_info['cluster label'])):\n",
    "    maj = label_info['cluster label'][j]\n",
    "    min = label_info['cluster label minor'][j]\n",
    "\n",
    "    if maj in major.keys():\n",
    "        major[maj].append(j)\n",
    "    if min in minor.keys():\n",
    "        minor[min].append(j)\n",
    "\n",
    "print(\"MAJOR CLUSTERS\")\n",
    "for key in major.keys():\n",
    "    s = \"    \" + key + \": \" + str(len(major[key]))\n",
    "    print(s)\n",
    "    \n",
    "print(\"MINOR CLUSTERS\")\n",
    "for key in minor.keys():\n",
    "    s = \"    \" + key + \": \" + str(len(minor[key]))\n",
    "    print(s)"
   ]
  },
  {
   "cell_type": "code",
   "execution_count": 4,
   "id": "035810c8-8e04-496d-8997-32a35c887aac",
   "metadata": {},
   "outputs": [],
   "source": [
    "# create input database\n",
    "database = np.array(embedding64[\"embed_l2_norm\"]) "
   ]
  },
  {
   "cell_type": "markdown",
   "id": "41da42ad-41e0-40a0-a540-67d8d5af5cbe",
   "metadata": {},
   "source": [
    "IVF experiment"
   ]
  },
  {
   "cell_type": "code",
   "execution_count": 5,
   "id": "8d9c52a0-a5a1-4214-a3e6-85125843f298",
   "metadata": {},
   "outputs": [],
   "source": [
    "# define experiment function\n",
    "def IVF_flat_experiment(nlist):\n",
    "    # initialize empty arrays for results\n",
    "    train_time = np.zeros([4238])\n",
    "    \n",
    "    for i in range(4238):\n",
    "        # subset dataset\n",
    "        db_subset = np.delete(database, i, 0)\n",
    "        \n",
    "        # create and train index\n",
    "        quantizer = faiss.IndexFlatL2(64)\n",
    "        index = faiss.IndexIVFFlat(quantizer, 64, nlist)\n",
    "        \n",
    "        start1 = perf_counter_ns()\n",
    "        index.train(db_subset)\n",
    "        end1 = perf_counter_ns()\n",
    "\n",
    "        train_time[i] = (end1-start1)\n",
    "\n",
    "    return train_time    "
   ]
  },
  {
   "cell_type": "code",
   "execution_count": 6,
   "id": "a263c105-fe71-44cd-bd3c-8d3e2d3c0e5a",
   "metadata": {},
   "outputs": [],
   "source": [
    "TrainTime_A = IVF_flat_experiment(17)\n",
    "TrainTime_B = IVF_flat_experiment(47)\n",
    "TrainTime_C = IVF_flat_experiment(77)\n",
    "TrainTime_D = IVF_flat_experiment(107)\n",
    "TrainTime_E = IVF_flat_experiment(137)"
   ]
  },
  {
   "cell_type": "code",
   "execution_count": 7,
   "id": "2f6b8d59-a1a6-4e6a-85b8-0eaadd63edc3",
   "metadata": {},
   "outputs": [],
   "source": [
    "with open('IVFFLAT/TrainTime.npy', 'wb') as f:\n",
    "    np.save(f, TrainTime_A)\n",
    "    np.save(f, TrainTime_B)\n",
    "    np.save(f, TrainTime_C)\n",
    "    np.save(f, TrainTime_D)\n",
    "    np.save(f, TrainTime_E)"
   ]
  },
  {
   "cell_type": "markdown",
   "id": "3959eae2-b08b-44d5-8321-14499423a859",
   "metadata": {},
   "source": [
    "HNSW experiment"
   ]
  },
  {
   "cell_type": "code",
   "execution_count": 8,
   "id": "c73aa82d-7e5e-4760-b0f0-7ab68427dfe9",
   "metadata": {},
   "outputs": [],
   "source": [
    "# define experiment function\n",
    "def HNSW_experiment(index_str):\n",
    "    # initialize empty arrays for results\n",
    "    train_time = np.zeros([4238])\n",
    "    \n",
    "    for i in range(4238):\n",
    "        # subset dataset\n",
    "        db_subset = np.delete(database, i, 0)\n",
    "        \n",
    "        # create and train index\n",
    "        index = faiss.index_factory(64, index_str)\n",
    "        \n",
    "        start1 = perf_counter_ns()\n",
    "        index.train(db_subset)\n",
    "        end1 = perf_counter_ns()\n",
    "        \n",
    "        train_time[i] = (end1-start1)        \n",
    "\n",
    "    return train_time    "
   ]
  },
  {
   "cell_type": "code",
   "execution_count": 9,
   "id": "130b349c-0690-414b-bac3-8161e373a967",
   "metadata": {},
   "outputs": [],
   "source": [
    "TrainTimeH_A = HNSW_experiment(\"HNSW16,Flat\")\n",
    "TrainTimeH_B = HNSW_experiment(\"HNSW32,Flat\")\n",
    "TrainTimeH_C = HNSW_experiment(\"HNSW64,Flat\")\n",
    "TrainTimeH_D = HNSW_experiment(\"HNSW128,Flat\")"
   ]
  },
  {
   "cell_type": "code",
   "execution_count": 10,
   "id": "38bcd816-faee-45ec-9a9b-eab23408cb6e",
   "metadata": {},
   "outputs": [],
   "source": [
    "with open('HNSW/TrainTime.npy', 'wb') as f:\n",
    "    np.save(f, TrainTimeH_A)\n",
    "    np.save(f, TrainTimeH_B)\n",
    "    np.save(f, TrainTimeH_C)\n",
    "    np.save(f, TrainTimeH_D)"
   ]
  },
  {
   "cell_type": "markdown",
   "id": "835f300d-add7-47ab-a715-dfca2dcd125d",
   "metadata": {},
   "source": [
    "Create figures with training time"
   ]
  },
  {
   "cell_type": "code",
   "execution_count": 28,
   "id": "7e5a1a89-572f-482c-9a85-8c8f75d8d7c5",
   "metadata": {},
   "outputs": [
    {
     "data": {
      "image/png": "[encoded data removed]",
      "text/plain": [
       "<Figure size 1300x1000 with 1 Axes>"
      ]
     },
     "metadata": {},
     "output_type": "display_data"
    }
   ],
   "source": [
    "fig, (ax1) = plt.subplots(1)\n",
    "fig.set_size_inches(13, 10)\n",
    "colors=[\"b\", \"g\", \"c\", \"m\", \"y\"]\n",
    "\n",
    "ax1.bar(['17', '47', '77', '107', '137'], tti, color=colors, edgecolor=\"black\")\n",
    "# ax1.set_yticks([500,1000,1500,2000,2500,3000,3500,4000])\n",
    "ax1.set_xticks([r for r in range(len(tti))],['nlist=17', 'nlist=47', 'nlist=77', 'nlist=107', 'nlist=137'])\n",
    "ax1.set_ylabel('Training Time (nanoseconds)')\n",
    "ax1.set_title('IVF Flat Index Training Time')\n",
    "plt.show()\n",
    "fig.savefig(\"TrainingTimeIVFFLAT.png\")"
   ]
  },
  {
   "cell_type": "code",
   "execution_count": 29,
   "id": "0fa093f3-1b95-4f13-8bef-8be997a8a5ec",
   "metadata": {},
   "outputs": [
    {
     "data": {
      "image/png": "[encoded data removed]",
      "text/plain": [
       "<Figure size 1300x1000 with 1 Axes>"
      ]
     },
     "metadata": {},
     "output_type": "display_data"
    }
   ],
   "source": [
    "fig, (ax1) = plt.subplots(1)\n",
    "fig.set_size_inches(13, 10)\n",
    "\n",
    "colors=[\"b\", \"g\", \"c\", \"m\"]\n",
    "\n",
    "ax1.bar(['M=16', 'M=32', 'M=64', 'M=128'], tth, color=colors, edgecolor=\"black\")\n",
    "ax1.set_xticks([r for r in range(len(tth))],['M=16', 'M=32', 'M=64', 'M=128'])\n",
    "ax1.set_ylabel('Training Time (nanoseconds)')\n",
    "ax1.set_title('HNSW Index Memory Use')\n",
    "plt.show()\n",
    "fig.savefig(\"TrainingTimeHNSW.png\")"
   ]
  }
 ],
 "metadata": {
  "kernelspec": {
   "display_name": "Python 3 (ipykernel)",
   "language": "python",
   "name": "python3"
  },
  "language_info": {
   "codemirror_mode": {
    "name": "ipython",
    "version": 3
   },
   "file_extension": ".py",
   "mimetype": "text/x-python",
   "name": "python",
   "nbconvert_exporter": "python",
   "pygments_lexer": "ipython3",
   "version": "3.11.7"
  }
 },
 "nbformat": 4,
 "nbformat_minor": 5
}
