{
 "cells": [
  {
   "cell_type": "markdown",
   "id": "758bbad8-6edc-4413-b521-12732d312d8c",
   "metadata": {},
   "source": [
    "This notebook contains the code used to generate embeddings  \n",
    "  \n",
    "The Higashi Wiki is used as source  \n",
    "    https://github.com/ma-compbio/Higashi/wiki/Fast-Higashi-Usage"
   ]
  },
  {
   "cell_type": "code",
   "execution_count": 1,
   "id": "8201f71d-0754-4190-940f-c115a22b4b7b",
   "metadata": {},
   "outputs": [
    {
     "name": "stderr",
     "output_type": "stream",
     "text": [
      "/tmp/ipykernel_5420/3842437144.py:1: DeprecationWarning: \n",
      "Pyarrow will become a required dependency of pandas in the next major release of pandas (pandas 3.0),\n",
      "(to allow more performant data types, such as the Arrow string type, and better interoperability with other libraries)\n",
      "but was not found to be installed on your system.\n",
      "If this would cause problems for you,\n",
      "please provide us feedback at https://github.com/pandas-dev/pandas/issues/54466\n",
      "        \n",
      "  import pandas as pd\n"
     ]
    }
   ],
   "source": [
    "import pandas as pd\n",
    "import pickle"
   ]
  },
  {
   "cell_type": "code",
   "execution_count": 2,
   "id": "dfb8cca1-1635-4ad3-84e2-33fc1a5216b8",
   "metadata": {},
   "outputs": [],
   "source": [
    "from fasthigashi.FastHigashi_Wrapper import *"
   ]
  },
  {
   "cell_type": "code",
   "execution_count": 3,
   "id": "51e11a19-167a-4a2e-88e1-febfa1baca0f",
   "metadata": {},
   "outputs": [
    {
     "data": {
      "text/html": [
       "<div>\n",
       "<style scoped>\n",
       "    .dataframe tbody tr th:only-of-type {\n",
       "        vertical-align: middle;\n",
       "    }\n",
       "\n",
       "    .dataframe tbody tr th {\n",
       "        vertical-align: top;\n",
       "    }\n",
       "\n",
       "    .dataframe thead th {\n",
       "        text-align: right;\n",
       "    }\n",
       "</style>\n",
       "<table border=\"1\" class=\"dataframe\">\n",
       "  <thead>\n",
       "    <tr style=\"text-align: right;\">\n",
       "      <th></th>\n",
       "      <th>cell_id</th>\n",
       "      <th>chrom1</th>\n",
       "      <th>pos1</th>\n",
       "      <th>chrom2</th>\n",
       "      <th>pos2</th>\n",
       "      <th>count</th>\n",
       "    </tr>\n",
       "  </thead>\n",
       "  <tbody>\n",
       "    <tr>\n",
       "      <th>0</th>\n",
       "      <td>1</td>\n",
       "      <td>chr1</td>\n",
       "      <td>100000</td>\n",
       "      <td>chr7</td>\n",
       "      <td>158600000</td>\n",
       "      <td>1</td>\n",
       "    </tr>\n",
       "    <tr>\n",
       "      <th>1</th>\n",
       "      <td>1</td>\n",
       "      <td>chr1</td>\n",
       "      <td>700000</td>\n",
       "      <td>chr10</td>\n",
       "      <td>39100000</td>\n",
       "      <td>1</td>\n",
       "    </tr>\n",
       "    <tr>\n",
       "      <th>2</th>\n",
       "      <td>1</td>\n",
       "      <td>chr1</td>\n",
       "      <td>900000</td>\n",
       "      <td>chr5</td>\n",
       "      <td>151500000</td>\n",
       "      <td>1</td>\n",
       "    </tr>\n",
       "    <tr>\n",
       "      <th>3</th>\n",
       "      <td>1</td>\n",
       "      <td>chr1</td>\n",
       "      <td>950000</td>\n",
       "      <td>chr1</td>\n",
       "      <td>66950000</td>\n",
       "      <td>1</td>\n",
       "    </tr>\n",
       "    <tr>\n",
       "      <th>4</th>\n",
       "      <td>1</td>\n",
       "      <td>chr1</td>\n",
       "      <td>950000</td>\n",
       "      <td>chr15</td>\n",
       "      <td>83600000</td>\n",
       "      <td>1</td>\n",
       "    </tr>\n",
       "  </tbody>\n",
       "</table>\n",
       "</div>"
      ],
      "text/plain": [
       "   cell_id chrom1    pos1 chrom2       pos2  count\n",
       "0        1   chr1  100000   chr7  158600000      1\n",
       "1        1   chr1  700000  chr10   39100000      1\n",
       "2        1   chr1  900000   chr5  151500000      1\n",
       "3        1   chr1  950000   chr1   66950000      1\n",
       "4        1   chr1  950000  chr15   83600000      1"
      ]
     },
     "execution_count": 3,
     "metadata": {},
     "output_type": "execute_result"
    }
   ],
   "source": [
    "# peek at the data, make sure looks okay\n",
    "data = pd.read_csv(\n",
    "    \"data.txt\", \n",
    "    sep=\"\\t\", nrows=5)\n",
    "data"
   ]
  },
  {
   "cell_type": "code",
   "execution_count": 4,
   "id": "3908969f-f8b9-4450-b6c0-7160233b04ea",
   "metadata": {},
   "outputs": [
    {
     "data": {
      "text/plain": [
       "['data.txt',\n",
       " 'config_pfc.JSON',\n",
       " 'GenerateEmbeddings.ipynb',\n",
       " '.ipynb_checkpoints',\n",
       " 'config.json',\n",
       " 'label_info.pickle',\n",
       " 'cytoBand_hg19.txt',\n",
       " 'hg19.chrom.sizes.txt',\n",
       " 'temp']"
      ]
     },
     "execution_count": 4,
     "metadata": {},
     "output_type": "execute_result"
    }
   ],
   "source": [
    "import os\n",
    "os.listdir()"
   ]
  },
  {
   "cell_type": "code",
   "execution_count": 6,
   "id": "a98b1d1f-eb96-4d49-b2cb-4b51ac5d46e8",
   "metadata": {},
   "outputs": [
    {
     "name": "stdout",
     "output_type": "stream",
     "text": [
      "setting to gpu:0 available memory = 6141 MB\n",
      "generating start/end dict for chromosome\n",
      "extracting from data.txt\n",
      "First calculating how many lines are there\n",
      "There are 1330348175 lines\n"
     ]
    },
    {
     "data": {
      "application/vnd.jupyter.widget-view+json": {
       "model_id": "9d10976930764925b4bc66ef0a5c8981",
       "version_major": 2,
       "version_minor": 0
      },
      "text/plain": [
       " - Processing :   0%|          | 0/1330348175 [00:00<?, ?it/s]"
      ]
     },
     "metadata": {},
     "output_type": "display_data"
    },
    {
     "name": "stdout",
     "output_type": "stream",
     "text": [
      "fast process finishes\n",
      "total number of cells that pass qc check 4145 bad 93 total: 4238\n",
      "cache file = temp/cache_intra_500000_offdiag_100_.pkl\n",
      "will do per batch normalization\n",
      "saving cached input to temp/cache_intra_500000_offdiag_100_.pkl\n"
     ]
    },
    {
     "data": {
      "application/vnd.jupyter.widget-view+json": {
       "model_id": "322c3b616f344115a14a2b130a02d575",
       "version_major": 2,
       "version_minor": 0
      },
      "text/plain": [
       "sparse mtx into tensors:   0%|          | 0/22 [00:00<?, ?it/s]"
      ]
     },
     "metadata": {},
     "output_type": "display_data"
    },
    {
     "data": {
      "application/vnd.jupyter.widget-view+json": {
       "model_id": "40130362cd384a0ea950a8f903b34564",
       "version_major": 2,
       "version_minor": 0
      },
      "text/plain": [
       "breaking into batches:   0%|          | 0/22 [00:00<?, ?it/s]"
      ]
     },
     "metadata": {},
     "output_type": "display_data"
    },
    {
     "name": "stdout",
     "output_type": "stream",
     "text": [
      "sparsity 0.05076833148571178\n",
      "do_conv True do_rwr True do_col False\n",
      "recommend_bs_cell [2073, 2073, 4145, 2073, 2073, 2073, 2073, 4145, 2073, 4145, 4145, 4145, 4145, 4145, 4145, 4145, 4145, 4145, 2073, 2073, 4145, 4145] pinning memory\n"
     ]
    }
   ],
   "source": [
    "# initialize the model\n",
    "model1 = FastHigashi(config_path=\"config_pfc.JSON\", \n",
    "                     path2input_cache=None,      \n",
    "                     path2result_dir=None,\n",
    "                     off_diag=100,  # maximum number of diagonals to consider\n",
    "                     filter=True,   # only use cells that pass QC to learn meta interactions?\n",
    "                     do_conv=True,  # use linear convolution?\n",
    "                     do_rwr=True,   # use partial random walk with restart?\n",
    "                     do_col=False,  # use sqrt_vc normalization? Will use automatically if needed\n",
    "                     no_col=False)  # force to use sqrt_vs normalization?\n",
    "\n",
    "# process the data from contacts to sparse matrix\n",
    "model1.fast_process_data()\n",
    "\n",
    "# pack from sparse matrix to sparse tensors\n",
    "model1.prep_dataset(batch_norm=True) # do batch normalization?"
   ]
  },
  {
   "cell_type": "code",
   "execution_count": 8,
   "id": "9d77bb1d-4c61-48ff-a457-965ab7740e55",
   "metadata": {},
   "outputs": [
    {
     "name": "stdout",
     "output_type": "stream",
     "text": [
      "dim1_0.6_rank_256_niterp_1_\n",
      "n_iter_parafac 1\n",
      "empty params initialized\n",
      "time elapsed: 1.05\n"
     ]
    },
    {
     "data": {
      "application/vnd.jupyter.widget-view+json": {
       "model_id": "dfaa5571c35e450bbbb3f447fb35f177",
       "version_major": 2,
       "version_minor": 0
      },
      "text/plain": [
       "initializing params:   0%|          | 0/22 [00:00<?, ?it/s]"
      ]
     },
     "metadata": {},
     "output_type": "display_data"
    },
    {
     "name": "stdout",
     "output_type": "stream",
     "text": [
      "rwr iters: [5 5 5 5 5 5 5 5 5 4 5 5 5 5 5 5 4 5 5 5 4 4]\n",
      "time elapsed: 299.64\n",
      "finish init\n",
      "Starting iteration 0\n",
      "\n",
      "PARAFAC2 re=7.005 takes 46.9s\n",
      "Starting iteration 1\n",
      "\n",
      "PARAFAC2 re=0.325 9.98e-01 variation min9.9e-01 at chrom 21, max1.0e+00 at chrom 1 takes 45.4s\n",
      "Starting iteration 2\n",
      "\n",
      "PARAFAC2 re=0.309 9.54e-02 variation min5.3e-02 at chrom 13, max1.2e-01 at chrom 20 takes 47.0s\n",
      "Starting iteration 3\n",
      "\n",
      "PARAFAC2 re=0.300 5.80e-02 variation min5.2e-02 at chrom 18, max8.3e-02 at chrom 15 takes 39.9s\n",
      "Starting iteration 4\n",
      "\n",
      "PARAFAC2 re=0.298 1.62e-02 variation min1.3e-02 at chrom 18, max2.9e-02 at chrom 14 takes 39.0s\n",
      "Starting iteration 5\n",
      "\n",
      "PARAFAC2 re=0.297 6.32e-03 variation min3.8e-03 at chrom 19, max1.2e-02 at chrom 10 takes 38.4s\n",
      "Starting iteration 6\n",
      "\n",
      "PARAFAC2 re=0.296 3.19e-03 variation min1.2e-03 at chrom 19, max6.1e-03 at chrom 13 takes 38.9s\n",
      "Starting iteration 7\n",
      "\n",
      "PARAFAC2 re=0.296 1.88e-03 variation min6.8e-04 at chrom 19, max3.6e-03 at chrom 13 takes 38.9s\n",
      "Starting iteration 8\n",
      "\n",
      "PARAFAC2 re=0.296 1.25e-03 variation min5.4e-04 at chrom 19, max2.3e-03 at chrom 13 takes 38.5s\n",
      "Starting iteration 9\n",
      "\n",
      "PARAFAC2 re=0.296 8.97e-04 variation min3.7e-04 at chrom 8, max1.6e-03 at chrom 13 takes 38.7s\n",
      "Starting iteration 10\n",
      "\n",
      "PARAFAC2 re=0.296 6.85e-04 variation min2.7e-04 at chrom 8, max1.2e-03 at chrom 13 takes 39.2s\n",
      "Starting iteration 11\n",
      "\n",
      "PARAFAC2 re=0.295 8.35e-04 variation min4.8e-04 at chrom 8, max1.6e-03 at chrom 20 takes 39.0s\n",
      "Starting iteration 12\n",
      "\n",
      "PARAFAC2 re=0.295 6.28e-04 variation min3.3e-04 at chrom 18, max1.3e-03 at chrom 20 takes 39.1s\n",
      "Starting iteration 13\n",
      "\n",
      "PARAFAC2 re=0.295 5.00e-04 variation min2.2e-04 at chrom 18, max1.1e-03 at chrom 20 takes 39.2s\n",
      "Starting iteration 14\n",
      "\n",
      "PARAFAC2 re=0.295 4.13e-04 variation min1.5e-04 at chrom 18, max9.6e-04 at chrom 20 takes 38.5s\n",
      "Starting iteration 15\n",
      "\n",
      "PARAFAC2 re=0.295 3.54e-04 variation min1.0e-04 at chrom 18, max8.5e-04 at chrom 20 takes 38.3s\n",
      "Starting iteration 16\n",
      "\n",
      "PARAFAC2 re=0.295 3.07e-04 variation min8.4e-05 at chrom 18, max7.7e-04 at chrom 20 takes 38.9s\n",
      "Starting iteration 17\n",
      "\n",
      "PARAFAC2 re=0.295 2.68e-04 variation min7.0e-05 at chrom 18, max7.2e-04 at chrom 20 takes 38.8s\n",
      "Starting iteration 18\n",
      "\n",
      "PARAFAC2 re=0.295 2.43e-04 variation min7.0e-05 at chrom 18, max6.6e-04 at chrom 20 takes 38.5s\n",
      "Starting iteration 19\n",
      "\n",
      "PARAFAC2 re=0.295 2.14e-04 variation min6.6e-05 at chrom 18, max6.3e-04 at chrom 20 takes 39.0s\n",
      "Starting iteration 20\n",
      "\n",
      "PARAFAC2 re=0.295 1.96e-04 variation min6.4e-05 at chrom 18, max6.0e-04 at chrom 20 takes 39.1s\n",
      "Starting iteration 21\n",
      "\n",
      "PARAFAC2 re=0.295 2.41e-04 variation min1.2e-04 at chrom 18, max7.3e-04 at chrom 20 takes 39.2s\n",
      "Starting iteration 22\n",
      "\n",
      "PARAFAC2 re=0.295 2.12e-04 variation min1.1e-04 at chrom 18, max6.9e-04 at chrom 20 takes 39.7s\n",
      "Starting iteration 23\n",
      "\n",
      "PARAFAC2 re=0.295 1.93e-04 variation min1.0e-04 at chrom 18, max6.5e-04 at chrom 20 takes 39.3s\n",
      "Starting iteration 24\n",
      "\n",
      "PARAFAC2 re=0.295 1.73e-04 variation min9.5e-05 at chrom 18, max6.0e-04 at chrom 20 takes 39.0s\n",
      "Starting iteration 25\n",
      "\n",
      "PARAFAC2 re=0.295 1.62e-04 variation min8.9e-05 at chrom 18, max5.5e-04 at chrom 20 takes 40.4s\n",
      "Starting iteration 26\n",
      "\n",
      "PARAFAC2 re=0.295 1.53e-04 variation min8.8e-05 at chrom 18, max4.9e-04 at chrom 20 takes 40.2s\n",
      "Starting iteration 27\n",
      "\n",
      "PARAFAC2 re=0.295 1.36e-04 variation min8.1e-05 at chrom 18, max4.3e-04 at chrom 20 takes 39.7s\n",
      "Starting iteration 28\n",
      "\n",
      "PARAFAC2 re=0.295 1.28e-04 variation min7.9e-05 at chrom 18, max3.8e-04 at chrom 20 takes 40.3s\n",
      "Starting iteration 29\n",
      "\n",
      "PARAFAC2 re=0.295 1.20e-04 variation min7.3e-05 at chrom 18, max3.3e-04 at chrom 20 takes 40.0s\n",
      "Starting iteration 30\n",
      "\n",
      "PARAFAC2 re=0.295 1.14e-04 variation min6.6e-05 at chrom 18, max2.8e-04 at chrom 20 takes 97.5s\n",
      "Starting iteration 31\n",
      "\n",
      "PARAFAC2 re=0.295 1.26e-04 variation min7.9e-05 at chrom 18, max2.8e-04 at chrom 20 takes 39.7s\n",
      "Starting iteration 32\n",
      "\n",
      "PARAFAC2 re=0.295 1.23e-04 variation min6.7e-05 at chrom 18, max2.4e-04 at chrom 20 takes 39.9s\n",
      "Starting iteration 33\n",
      "\n",
      "PARAFAC2 re=0.295 1.08e-04 variation min6.4e-05 at chrom 18, max2.0e-04 at chrom 20 takes 40.1s\n",
      "Starting iteration 34\n",
      "\n",
      "PARAFAC2 re=0.295 1.03e-04 variation min5.4e-05 at chrom 18, max1.8e-04 at chrom 20 takes 75.7s\n",
      "Starting iteration 35\n",
      "\n",
      "PARAFAC2 re=0.295 9.95e-05 variation min5.1e-05 at chrom 18, max1.5e-04 at chrom 14 takes 46.8s\n",
      "Starting iteration 36\n",
      "\n",
      "PARAFAC2 re=0.295 9.32e-05 variation min4.7e-05 at chrom 18, max1.4e-04 at chrom 14 takes 46.6s\n",
      "Starting iteration 37\n",
      "\n",
      "PARAFAC2 re=0.295 8.99e-05 variation min3.9e-05 at chrom 18, max1.4e-04 at chrom 14 takes 47.1s\n",
      "Starting iteration 38\n",
      "\n",
      "PARAFAC2 re=0.295 8.24e-05 variation min3.5e-05 at chrom 18, max1.3e-04 at chrom 14 takes 47.1s\n",
      "Starting iteration 39\n",
      "\n",
      "PARAFAC2 re=0.295 7.99e-05 variation min3.5e-05 at chrom 18, max1.3e-04 at chrom 14 takes 47.0s\n",
      "Starting iteration 40\n",
      "\n",
      "PARAFAC2 re=0.295 7.70e-05 variation min3.2e-05 at chrom 18, max1.2e-04 at chrom 14 takes 47.2s\n",
      "Starting iteration 41\n",
      "\n",
      "PARAFAC2 re=0.295 8.53e-05 variation min3.8e-05 at chrom 18, max1.3e-04 at chrom 14 takes 47.4s\n",
      "Starting iteration 42\n",
      "\n",
      "PARAFAC2 re=0.295 8.26e-05 variation min3.4e-05 at chrom 18, max1.2e-04 at chrom 14 takes 47.0s\n",
      "Starting iteration 43\n",
      "\n",
      "PARAFAC2 re=0.295 7.57e-05 variation min3.4e-05 at chrom 18, max1.1e-04 at chrom 14 takes 47.2s\n",
      "Starting iteration 44\n",
      "\n",
      "PARAFAC2 re=0.295 7.46e-05 variation min3.2e-05 at chrom 18, max1.1e-04 at chrom 14 takes 47.4s\n",
      "Starting iteration 45\n",
      "\n",
      "PARAFAC2 re=0.295 7.28e-05 variation min3.1e-05 at chrom 20, max1.1e-04 at chrom 14 takes 47.3s\n",
      "Starting iteration 46\n",
      "\n",
      "PARAFAC2 re=0.295 6.76e-05 variation min2.7e-05 at chrom 18, max9.5e-05 at chrom 14 takes 47.1s\n",
      "Starting iteration 47\n",
      "\n",
      "PARAFAC2 re=0.295 6.64e-05 variation min1.9e-05 at chrom 20, max9.2e-05 at chrom 14 takes 47.4s\n",
      "Starting iteration 48\n",
      "\n",
      "PARAFAC2 re=0.295 6.32e-05 variation min2.4e-05 at chrom 20, max8.9e-05 at chrom 14 takes 47.4s\n",
      "Starting iteration 49\n",
      "\n",
      "PARAFAC2 re=0.295 6.17e-05 variation min1.4e-05 at chrom 20, max8.1e-05 at chrom 1 takes 47.9s\n",
      "Starting iteration 50\n",
      "\n",
      "PARAFAC2 re=0.295 5.82e-05 variation min2.0e-05 at chrom 20, max8.1e-05 at chrom 14 takes 47.6s\n",
      "Starting iteration 51\n",
      "\n",
      "PARAFAC2 re=0.295 6.44e-05 variation min1.6e-05 at chrom 20, max8.6e-05 at chrom 1 takes 47.6s\n",
      "Starting iteration 52\n",
      "\n",
      "PARAFAC2 re=0.295 6.46e-05 variation min1.7e-05 at chrom 20, max8.5e-05 at chrom 1 takes 48.5s\n",
      "Starting iteration 53\n",
      "\n",
      "PARAFAC2 re=0.294 5.64e-05 variation min1.4e-05 at chrom 20, max7.8e-05 at chrom 1 takes 48.6s\n",
      "Starting iteration 54\n",
      "\n",
      "PARAFAC2 re=0.294 5.94e-05 variation min1.5e-05 at chrom 20, max7.5e-05 at chrom 1 takes 47.5s\n",
      "Starting iteration 55\n",
      "\n",
      "PARAFAC2 re=0.294 5.60e-05 variation min1.4e-05 at chrom 20, max7.4e-05 at chrom 1 takes 47.7s\n",
      "Starting iteration 56\n",
      "\n",
      "PARAFAC2 re=0.294 5.33e-05 variation min4.2e-06 at chrom 20, max6.9e-05 at chrom 0 takes 48.5s\n",
      "Starting iteration 57\n",
      "\n",
      "PARAFAC2 re=0.294 5.06e-05 variation min1.2e-05 at chrom 20, max6.8e-05 at chrom 0 takes 48.8s\n",
      "Starting iteration 58\n",
      "\n",
      "PARAFAC2 re=0.294 5.01e-05 variation min7.4e-06 at chrom 20, max6.5e-05 at chrom 0 takes 47.5s\n",
      "Starting iteration 59\n",
      "\n",
      "PARAFAC2 re=0.294 4.52e-05 variation min-2.1e-06 at chrom 20, max6.4e-05 at chrom 0 takes 47.8s\n",
      "Starting iteration 60\n",
      "\n",
      "PARAFAC2 re=0.294 4.80e-05 variation min8.3e-06 at chrom 19, max6.3e-05 at chrom 0 takes 49.0s\n",
      "Starting iteration 61\n",
      "\n",
      "PARAFAC2 re=0.294 5.12e-05 variation min4.2e-06 at chrom 20, max6.6e-05 at chrom 0 takes 169.3s\n",
      "Starting iteration 62\n",
      "\n",
      "PARAFAC2 re=0.294 4.96e-05 variation min4.2e-06 at chrom 20, max6.4e-05 at chrom 0 takes 170.2s\n",
      "Starting iteration 63\n",
      "\n",
      "PARAFAC2 re=0.294 4.61e-05 variation min7.4e-06 at chrom 20, max6.3e-05 at chrom 0 takes 169.9s\n",
      "Starting iteration 64\n",
      "\n",
      "PARAFAC2 re=0.294 4.38e-05 variation min3.2e-06 at chrom 20, max6.2e-05 at chrom 0 takes 168.4s\n",
      "Starting iteration 65\n",
      "\n",
      "PARAFAC2 re=0.294 4.47e-05 variation min-4.2e-06 at chrom 20, max5.8e-05 at chrom 0 takes 170.6s\n",
      "Starting iteration 66\n",
      "\n",
      "PARAFAC2 re=0.294 3.92e-05 variation min2.1e-06 at chrom 20, max5.9e-05 at chrom 0 takes 170.0s\n",
      "Starting iteration 67\n",
      "\n",
      "PARAFAC2 re=0.294 4.10e-05 variation min-1.1e-06 at chrom 20, max5.6e-05 at chrom 0 takes 169.4s\n",
      "Starting iteration 68\n",
      "\n",
      "PARAFAC2 re=0.294 4.05e-05 variation min-3.2e-06 at chrom 20, max5.6e-05 at chrom 0 takes 169.3s\n",
      "Starting iteration 69\n",
      "\n",
      "PARAFAC2 re=0.294 3.68e-05 variation min-1.1e-06 at chrom 20, max5.4e-05 at chrom 0 takes 1013.6s\n",
      "Starting iteration 70\n",
      "\n",
      "PARAFAC2 re=0.294 3.69e-05 variation min2.1e-06 at chrom 20, max5.4e-05 at chrom 0 takes 42.8s\n",
      "Starting iteration 71\n",
      "\n",
      "PARAFAC2 re=0.294 4.02e-05 variation min1.1e-06 at chrom 20, max5.5e-05 at chrom 0 takes 40.3s\n",
      "Starting iteration 72\n",
      "\n",
      "PARAFAC2 re=0.294 3.64e-05 variation min3.2e-06 at chrom 20, max5.8e-05 at chrom 21 takes 40.8s\n",
      "Starting iteration 73\n",
      "\n",
      "PARAFAC2 re=0.294 3.79e-05 variation min-6.3e-06 at chrom 20, max5.4e-05 at chrom 0 takes 42.4s\n",
      "Starting iteration 74\n",
      "\n",
      "PARAFAC2 re=0.294 3.67e-05 variation min2.1e-06 at chrom 20, max5.6e-05 at chrom 21 takes 94.0s\n",
      "Starting iteration 75\n",
      "\n",
      "PARAFAC2 re=0.294 3.42e-05 variation min-2.1e-06 at chrom 20, max5.5e-05 at chrom 21 takes 42.9s\n",
      "Starting iteration 76\n",
      "\n",
      "PARAFAC2 re=0.294 3.34e-05 variation min5.3e-06 at chrom 20, max5.5e-05 at chrom 21 takes 42.2s\n",
      "Starting iteration 77\n",
      "\n",
      "PARAFAC2 re=0.294 3.36e-05 variation min-2.1e-06 at chrom 20, max4.9e-05 at chrom 0 takes 40.9s\n",
      "Starting iteration 78\n",
      "\n",
      "PARAFAC2 re=0.294 2.85e-05 variation min-1.1e-06 at chrom 20, max5.5e-05 at chrom 21 takes 97.0s\n",
      "Starting iteration 79\n",
      "\n",
      "PARAFAC2 re=0.294 3.20e-05 variation min5.3e-06 at chrom 20, max4.6e-05 at chrom 0 takes 41.0s\n",
      "Starting iteration 80\n",
      "\n",
      "PARAFAC2 re=0.294 2.81e-05 variation min7.4e-06 at chrom 19, max4.5e-05 at chrom 0 takes 42.5s\n",
      "Starting iteration 81\n",
      "\n",
      "PARAFAC2 re=0.294 2.89e-05 variation min5.3e-06 at chrom 20, max4.7e-05 at chrom 21 takes 65.2s\n",
      "Starting iteration 82\n",
      "\n",
      "PARAFAC2 re=0.294 2.92e-05 variation min9.5e-06 at chrom 20, max4.3e-05 at chrom 0 takes 61.7s\n",
      "Starting iteration 83\n",
      "\n",
      "PARAFAC2 re=0.294 2.87e-05 variation min1.1e-05 at chrom 19, max4.6e-05 at chrom 0 takes 41.7s\n",
      "Starting iteration 84\n",
      "\n",
      "PARAFAC2 re=0.294 2.62e-05 variation min9.1e-06 at chrom 19, max4.0e-05 at chrom 15 takes 40.7s\n",
      "Starting iteration 85\n",
      "\n",
      "PARAFAC2 re=0.294 2.68e-05 variation min9.2e-06 at chrom 1, max4.0e-05 at chrom 15 takes 43.4s\n",
      "converged in 85 iterations.\n",
      "start transform\n",
      "takes: 6223.68 s\n"
     ]
    }
   ],
   "source": [
    "# run the model\n",
    "model1.run_model(dim1=.6, rank=256, n_iter_parafac=1, extra=\"\")"
   ]
  },
  {
   "cell_type": "code",
   "execution_count": 10,
   "id": "2462e076-5819-4b3c-8ec2-c530beaf86a9",
   "metadata": {},
   "outputs": [
    {
     "name": "stdout",
     "output_type": "stream",
     "text": [
      "fetching embedding\n",
      "fetching embedding\n",
      "fetching embedding\n"
     ]
    }
   ],
   "source": [
    "# get the results\n",
    "embedding256 = model1.fetch_cell_embedding(final_dim=256, restore_order=True)\n",
    "embedding128 = model1.fetch_cell_embedding(final_dim=128, restore_order=True)\n",
    "embedding64 = model1.fetch_cell_embedding(final_dim=64, restore_order=True)"
   ]
  },
  {
   "cell_type": "code",
   "execution_count": 13,
   "id": "34248491-9834-41eb-bac5-814708d5317f",
   "metadata": {},
   "outputs": [],
   "source": [
    "# dict keys that are available:\n",
    "# 'embed_raw' = raw embeddings\n",
    "# 'embed_l2_norm' = embeddings after L2 normalization\n",
    "# 'embed_correct_coverage_fh' = embeddings after linear correction of coverage\n",
    "# 'embed_l2_norm_correct_coverage_fh' = embeddings after linear correction of coverage + L2 normazliation\n",
    "\n",
    "# authors suggest:\n",
    "# It is suggested to try 'embed_l2_norm' or 'embed_l2_norm_correct_coverage_fh'. \n",
    "# Although technically 'embed_l2_norm_correct_coverage_fh' offers embeddings that \n",
    "# are unbiased towards sequencing depths of cells, for some datasets, the cell type \n",
    "# information is highly correlated with the sequencing depths. A simple regression \n",
    "# would lead to much worse embedding results. This is caused by the non-orthogonality \n",
    "# of biological variance and technical variance, and usually happens when two scHi-C \n",
    "# libraries contain different (or even non-overlapping) cell types but also have \n",
    "# different sequencing depths. Thus, it is suggested to test out both embeddings and \n",
    "# see which gives more reasonable results."
   ]
  },
  {
   "cell_type": "code",
   "execution_count": 12,
   "id": "3df0b643-1d50-4a81-ab20-b92cbf27c168",
   "metadata": {},
   "outputs": [
    {
     "name": "stdout",
     "output_type": "stream",
     "text": [
      "dictionary saved successfully to file\n",
      "dictionary saved successfully to file\n",
      "dictionary saved successfully to file\n"
     ]
    }
   ],
   "source": [
    "with open('embedding256.pickle', 'wb') as fp:\n",
    "    pickle.dump(embedding256, fp)\n",
    "    print('dictionary saved successfully to file')\n",
    "    \n",
    "with open('embedding128.pickle', 'wb') as fp:\n",
    "    pickle.dump(embedding128, fp)\n",
    "    print('dictionary saved successfully to file')\n",
    "        \n",
    "with open('embedding64.pickle', 'wb') as fp:\n",
    "    pickle.dump(embedding64, fp)\n",
    "    print('dictionary saved successfully to file')"
   ]
  }
 ],
 "metadata": {
  "kernelspec": {
   "display_name": "Python 3 (ipykernel)",
   "language": "python",
   "name": "python3"
  },
  "language_info": {
   "codemirror_mode": {
    "name": "ipython",
    "version": 3
   },
   "file_extension": ".py",
   "mimetype": "text/x-python",
   "name": "python",
   "nbconvert_exporter": "python",
   "pygments_lexer": "ipython3",
   "version": "3.11.7"
  }
 },
 "nbformat": 4,
 "nbformat_minor": 5
}
